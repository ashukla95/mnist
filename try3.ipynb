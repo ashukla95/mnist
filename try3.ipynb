{
 "cells": [
  {
   "cell_type": "code",
   "execution_count": 1,
   "metadata": {},
   "outputs": [
    {
     "name": "stderr",
     "output_type": "stream",
     "text": [
      "Using TensorFlow backend.\n"
     ]
    }
   ],
   "source": [
    "import pandas as pd\n",
    "from keras.utils.np_utils import to_categorical\n",
    "from sklearn.model_selection import train_test_split\n",
    "import matplotlib.pyplot as plt\n",
    "from keras.models import Sequential, Model\n",
    "from keras.layers import Conv2D, MaxPool2D, GlobalAvgPool2D, Flatten, Dense, Dropout\n",
    "from keras.optimizers import Adam, RMSprop\n",
    "from keras.preprocessing.image import ImageDataGenerator\n",
    "import numpy as np\n",
    "from keras.callbacks import ReduceLROnPlateau"
   ]
  },
  {
   "cell_type": "code",
   "execution_count": 2,
   "metadata": {},
   "outputs": [],
   "source": [
    "train_df = pd.read_csv(\"train.csv\")\n",
    "test_df = pd.read_csv(\"test.csv\")"
   ]
  },
  {
   "cell_type": "code",
   "execution_count": 3,
   "metadata": {},
   "outputs": [],
   "source": [
    "y_train = train_df[\"label\"].values\n",
    "x_train = train_df[train_df.keys().drop([\"label\"])].values.reshape(-1,28,28,1)\n",
    "x_train = x_train/255"
   ]
  },
  {
   "cell_type": "code",
   "execution_count": 4,
   "metadata": {},
   "outputs": [],
   "source": [
    "test = test_df.values\n",
    "test = test/255\n",
    "test = test.reshape(-1, 28,28,1)"
   ]
  },
  {
   "cell_type": "code",
   "execution_count": 5,
   "metadata": {},
   "outputs": [],
   "source": [
    "y_train = to_categorical(y_train, num_classes=10)"
   ]
  },
  {
   "cell_type": "code",
   "execution_count": 6,
   "metadata": {},
   "outputs": [
    {
     "data": {
      "text/plain": [
       "array([[0., 1., 0., ..., 0., 0., 0.],\n",
       "       [1., 0., 0., ..., 0., 0., 0.],\n",
       "       [0., 1., 0., ..., 0., 0., 0.],\n",
       "       ...,\n",
       "       [0., 0., 0., ..., 1., 0., 0.],\n",
       "       [0., 0., 0., ..., 0., 0., 0.],\n",
       "       [0., 0., 0., ..., 0., 0., 1.]], dtype=float32)"
      ]
     },
     "execution_count": 6,
     "metadata": {},
     "output_type": "execute_result"
    }
   ],
   "source": [
    "y_train"
   ]
  },
  {
   "cell_type": "code",
   "execution_count": 7,
   "metadata": {},
   "outputs": [],
   "source": [
    "x_train, x_val, y_train, y_val = train_test_split(x_train, y_train, test_size=0.2, random_state=42)"
   ]
  },
  {
   "cell_type": "code",
   "execution_count": 8,
   "metadata": {},
   "outputs": [
    {
     "data": {
      "text/plain": [
       "<matplotlib.image.AxesImage at 0x20355934ac8>"
      ]
     },
     "execution_count": 8,
     "metadata": {},
     "output_type": "execute_result"
    },
    {
     "data": {
      "image/png": "[encoded data removed]",
      "text/plain": [
       "<Figure size 432x288 with 1 Axes>"
      ]
     },
     "metadata": {
      "needs_background": "light"
     },
     "output_type": "display_data"
    }
   ],
   "source": [
    "plt.imshow(x_train[0][:,:,0])"
   ]
  },
  {
   "cell_type": "code",
   "execution_count": 9,
   "metadata": {},
   "outputs": [
    {
     "name": "stdout",
     "output_type": "stream",
     "text": [
      "Model: \"sequential_1\"\n",
      "_________________________________________________________________\n",
      "Layer (type)                 Output Shape              Param #   \n",
      "=================================================================\n",
      "conv2d_1 (Conv2D)            (None, 28, 28, 32)        832       \n",
      "_________________________________________________________________\n",
      "conv2d_2 (Conv2D)            (None, 28, 28, 32)        25632     \n",
      "_________________________________________________________________\n",
      "conv2d_3 (Conv2D)            (None, 28, 28, 64)        18496     \n",
      "_________________________________________________________________\n",
      "conv2d_4 (Conv2D)            (None, 28, 28, 64)        36928     \n",
      "_________________________________________________________________\n",
      "max_pooling2d_1 (MaxPooling2 (None, 14, 14, 64)        0         \n",
      "_________________________________________________________________\n",
      "dropout_1 (Dropout)          (None, 14, 14, 64)        0         \n",
      "_________________________________________________________________\n",
      "conv2d_5 (Conv2D)            (None, 14, 14, 128)       73856     \n",
      "_________________________________________________________________\n",
      "conv2d_6 (Conv2D)            (None, 14, 14, 128)       147584    \n",
      "_________________________________________________________________\n",
      "max_pooling2d_2 (MaxPooling2 (None, 7, 7, 128)         0         \n",
      "_________________________________________________________________\n",
      "dropout_2 (Dropout)          (None, 7, 7, 128)         0         \n",
      "_________________________________________________________________\n",
      "flatten_1 (Flatten)          (None, 6272)              0         \n",
      "_________________________________________________________________\n",
      "dense_1 (Dense)              (None, 256)               1605888   \n",
      "_________________________________________________________________\n",
      "dropout_3 (Dropout)          (None, 256)               0         \n",
      "_________________________________________________________________\n",
      "dense_2 (Dense)              (None, 10)                2570      \n",
      "=================================================================\n",
      "Total params: 1,911,786\n",
      "Trainable params: 1,911,786\n",
      "Non-trainable params: 0\n",
      "_________________________________________________________________\n"
     ]
    }
   ],
   "source": [
    "model = Sequential()\n",
    "model.add(Conv2D(filters=32, kernel_size=(5,5), input_shape=(28,28,1), activation=\"relu\", padding=\"Same\"))\n",
    "model.add(Conv2D(filters=32, kernel_size=(5,5), activation=\"relu\", padding=\"Same\"))\n",
    "model.add(Conv2D(filters=64, kernel_size=(3,3), activation=\"relu\", padding=\"Same\"))\n",
    "model.add(Conv2D(filters=64, kernel_size=(3,3), activation=\"relu\", padding=\"Same\"))\n",
    "model.add(MaxPool2D(pool_size=(2,2)))\n",
    "model.add(Dropout(0.25))\n",
    "\n",
    "model.add(Conv2D(filters=128, kernel_size=(3,3), activation=\"relu\", padding=\"Same\"))\n",
    "model.add(Conv2D(filters=128, kernel_size=(3,3), activation=\"relu\", padding=\"Same\"))\n",
    "model.add(MaxPool2D(pool_size=(2,2)))\n",
    "model.add(Dropout(0.25))\n",
    "\n",
    "model.add(Flatten())\n",
    "model.add(Dense(256, activation=\"relu\"))\n",
    "model.add(Dropout(0.5))\n",
    "model.add(Dense(10, activation=\"softmax\"))\n",
    "model.summary()"
   ]
  },
  {
   "cell_type": "code",
   "execution_count": 10,
   "metadata": {},
   "outputs": [],
   "source": [
    "model.compile(optimizer=\"adam\", loss=\"categorical_crossentropy\", metrics=[\"accuracy\"])"
   ]
  },
  {
   "cell_type": "code",
   "execution_count": 11,
   "metadata": {},
   "outputs": [],
   "source": [
    "igen = ImageDataGenerator(\n",
    "    rotation_range=8,\n",
    "    width_shift_range=0.1,\n",
    "    height_shift_range=0.1\n",
    ")\n",
    "igen.fit(x_train)"
   ]
  },
  {
   "cell_type": "code",
   "execution_count": 12,
   "metadata": {},
   "outputs": [],
   "source": [
    "lr = ReduceLROnPlateau(min_lr=0.00001, patience=4, verbose=1, monitor=\"loss\")"
   ]
  },
  {
   "cell_type": "code",
   "execution_count": 13,
   "metadata": {},
   "outputs": [
    {
     "name": "stdout",
     "output_type": "stream",
     "text": [
      "Epoch 1/100\n",
      " - 27s - loss: 0.3700 - accuracy: 0.8829 - val_loss: 0.0698 - val_accuracy: 0.9804\n",
      "Epoch 2/100\n",
      " - 24s - loss: 0.1381 - accuracy: 0.9607 - val_loss: 0.0403 - val_accuracy: 0.9875\n",
      "Epoch 3/100\n",
      " - 24s - loss: 0.1085 - accuracy: 0.9686 - val_loss: 0.0571 - val_accuracy: 0.9849\n",
      "Epoch 4/100\n",
      " - 24s - loss: 0.0917 - accuracy: 0.9731 - val_loss: 0.0385 - val_accuracy: 0.9874\n",
      "Epoch 5/100\n",
      " - 24s - loss: 0.0866 - accuracy: 0.9750 - val_loss: 0.0456 - val_accuracy: 0.9860\n",
      "Epoch 6/100\n",
      " - 24s - loss: 0.0818 - accuracy: 0.9765 - val_loss: 0.0390 - val_accuracy: 0.9892\n",
      "Epoch 7/100\n",
      " - 24s - loss: 0.0763 - accuracy: 0.9785 - val_loss: 0.0335 - val_accuracy: 0.9895\n",
      "Epoch 8/100\n",
      " - 23s - loss: 0.0721 - accuracy: 0.9797 - val_loss: 0.0334 - val_accuracy: 0.9906\n",
      "Epoch 9/100\n",
      " - 23s - loss: 0.0683 - accuracy: 0.9809 - val_loss: 0.0282 - val_accuracy: 0.9911\n",
      "Epoch 10/100\n",
      " - 23s - loss: 0.0650 - accuracy: 0.9820 - val_loss: 0.0309 - val_accuracy: 0.9899\n",
      "Epoch 11/100\n",
      " - 24s - loss: 0.0669 - accuracy: 0.9818 - val_loss: 0.0346 - val_accuracy: 0.9899\n",
      "Epoch 12/100\n",
      " - 25s - loss: 0.0670 - accuracy: 0.9804 - val_loss: 0.0318 - val_accuracy: 0.9904\n",
      "Epoch 13/100\n",
      " - 24s - loss: 0.0628 - accuracy: 0.9820 - val_loss: 0.0348 - val_accuracy: 0.9896\n",
      "Epoch 14/100\n",
      " - 24s - loss: 0.0688 - accuracy: 0.9805 - val_loss: 0.0294 - val_accuracy: 0.9917\n",
      "Epoch 15/100\n",
      " - 24s - loss: 0.0628 - accuracy: 0.9824 - val_loss: 0.0335 - val_accuracy: 0.9907\n",
      "Epoch 16/100\n",
      " - 24s - loss: 0.0664 - accuracy: 0.9812 - val_loss: 0.0326 - val_accuracy: 0.9917\n",
      "Epoch 17/100\n",
      " - 24s - loss: 0.0653 - accuracy: 0.9818 - val_loss: 0.0316 - val_accuracy: 0.9898\n",
      "\n",
      "Epoch 00017: ReduceLROnPlateau reducing learning rate to 0.00010000000474974513.\n",
      "Epoch 18/100\n",
      " - 24s - loss: 0.0401 - accuracy: 0.9882 - val_loss: 0.0195 - val_accuracy: 0.9936\n",
      "Epoch 19/100\n",
      " - 24s - loss: 0.0375 - accuracy: 0.9896 - val_loss: 0.0194 - val_accuracy: 0.9938\n",
      "Epoch 20/100\n",
      " - 25s - loss: 0.0329 - accuracy: 0.9903 - val_loss: 0.0199 - val_accuracy: 0.9939\n",
      "Epoch 21/100\n",
      " - 25s - loss: 0.0316 - accuracy: 0.9906 - val_loss: 0.0203 - val_accuracy: 0.9940\n",
      "Epoch 22/100\n",
      " - 25s - loss: 0.0305 - accuracy: 0.9911 - val_loss: 0.0207 - val_accuracy: 0.9945\n",
      "Epoch 23/100\n",
      " - 24s - loss: 0.0288 - accuracy: 0.9917 - val_loss: 0.0197 - val_accuracy: 0.9949\n",
      "Epoch 24/100\n",
      " - 25s - loss: 0.0264 - accuracy: 0.9921 - val_loss: 0.0196 - val_accuracy: 0.9946\n",
      "Epoch 25/100\n",
      " - 24s - loss: 0.0261 - accuracy: 0.9921 - val_loss: 0.0197 - val_accuracy: 0.9943\n",
      "Epoch 26/100\n",
      " - 24s - loss: 0.0254 - accuracy: 0.9924 - val_loss: 0.0213 - val_accuracy: 0.9938\n",
      "Epoch 27/100\n",
      " - 25s - loss: 0.0244 - accuracy: 0.9928 - val_loss: 0.0196 - val_accuracy: 0.9943\n",
      "Epoch 28/100\n",
      " - 23s - loss: 0.0234 - accuracy: 0.9928 - val_loss: 0.0201 - val_accuracy: 0.9946\n",
      "Epoch 29/100\n",
      " - 24s - loss: 0.0227 - accuracy: 0.9932 - val_loss: 0.0223 - val_accuracy: 0.9944\n",
      "Epoch 30/100\n",
      " - 25s - loss: 0.0235 - accuracy: 0.9929 - val_loss: 0.0210 - val_accuracy: 0.9949\n",
      "Epoch 31/100\n",
      " - 24s - loss: 0.0246 - accuracy: 0.9932 - val_loss: 0.0209 - val_accuracy: 0.9946\n",
      "Epoch 32/100\n",
      " - 24s - loss: 0.0217 - accuracy: 0.9934 - val_loss: 0.0202 - val_accuracy: 0.9955\n",
      "Epoch 33/100\n",
      " - 24s - loss: 0.0204 - accuracy: 0.9939 - val_loss: 0.0196 - val_accuracy: 0.9949\n",
      "Epoch 34/100\n",
      " - 24s - loss: 0.0217 - accuracy: 0.9944 - val_loss: 0.0202 - val_accuracy: 0.9949\n",
      "Epoch 35/100\n",
      " - 24s - loss: 0.0230 - accuracy: 0.9933 - val_loss: 0.0187 - val_accuracy: 0.9944\n",
      "Epoch 36/100\n",
      " - 23s - loss: 0.0200 - accuracy: 0.9940 - val_loss: 0.0190 - val_accuracy: 0.9946\n",
      "Epoch 37/100\n",
      " - 25s - loss: 0.0208 - accuracy: 0.9943 - val_loss: 0.0208 - val_accuracy: 0.9948\n",
      "Epoch 38/100\n",
      " - 25s - loss: 0.0201 - accuracy: 0.9940 - val_loss: 0.0204 - val_accuracy: 0.9942\n",
      "Epoch 39/100\n",
      " - 23s - loss: 0.0188 - accuracy: 0.9942 - val_loss: 0.0195 - val_accuracy: 0.9946\n",
      "Epoch 40/100\n",
      " - 24s - loss: 0.0206 - accuracy: 0.9938 - val_loss: 0.0193 - val_accuracy: 0.9945\n",
      "Epoch 41/100\n",
      " - 25s - loss: 0.0175 - accuracy: 0.9950 - val_loss: 0.0190 - val_accuracy: 0.9957\n",
      "Epoch 42/100\n",
      " - 25s - loss: 0.0220 - accuracy: 0.9939 - val_loss: 0.0173 - val_accuracy: 0.9954\n",
      "Epoch 43/100\n",
      " - 25s - loss: 0.0172 - accuracy: 0.9946 - val_loss: 0.0191 - val_accuracy: 0.9951\n",
      "Epoch 44/100\n",
      " - 25s - loss: 0.0192 - accuracy: 0.9941 - val_loss: 0.0176 - val_accuracy: 0.9951\n",
      "Epoch 45/100\n",
      " - 25s - loss: 0.0190 - accuracy: 0.9947 - val_loss: 0.0190 - val_accuracy: 0.9950\n",
      "Epoch 46/100\n",
      " - 25s - loss: 0.0178 - accuracy: 0.9944 - val_loss: 0.0200 - val_accuracy: 0.9951\n",
      "Epoch 47/100\n",
      " - 24s - loss: 0.0181 - accuracy: 0.9945 - val_loss: 0.0218 - val_accuracy: 0.9945\n",
      "\n",
      "Epoch 00047: ReduceLROnPlateau reducing learning rate to 1.0000000474974514e-05.\n",
      "Epoch 48/100\n",
      " - 25s - loss: 0.0183 - accuracy: 0.9946 - val_loss: 0.0205 - val_accuracy: 0.9946\n",
      "Epoch 49/100\n",
      " - 24s - loss: 0.0165 - accuracy: 0.9951 - val_loss: 0.0201 - val_accuracy: 0.9951\n",
      "Epoch 50/100\n",
      " - 25s - loss: 0.0156 - accuracy: 0.9954 - val_loss: 0.0197 - val_accuracy: 0.9945\n",
      "Epoch 51/100\n",
      " - 25s - loss: 0.0172 - accuracy: 0.9949 - val_loss: 0.0195 - val_accuracy: 0.9949\n",
      "Epoch 52/100\n",
      " - 25s - loss: 0.0165 - accuracy: 0.9949 - val_loss: 0.0193 - val_accuracy: 0.9952\n",
      "Epoch 53/100\n",
      " - 25s - loss: 0.0156 - accuracy: 0.9954 - val_loss: 0.0195 - val_accuracy: 0.9951\n",
      "Epoch 54/100\n",
      " - 25s - loss: 0.0162 - accuracy: 0.9951 - val_loss: 0.0195 - val_accuracy: 0.9950\n",
      "\n",
      "Epoch 00054: ReduceLROnPlateau reducing learning rate to 1e-05.\n",
      "Epoch 55/100\n",
      " - 25s - loss: 0.0154 - accuracy: 0.9947 - val_loss: 0.0198 - val_accuracy: 0.9950\n",
      "Epoch 56/100\n",
      " - 25s - loss: 0.0160 - accuracy: 0.9948 - val_loss: 0.0196 - val_accuracy: 0.9952\n",
      "Epoch 57/100\n",
      " - 25s - loss: 0.0150 - accuracy: 0.9953 - val_loss: 0.0199 - val_accuracy: 0.9956\n",
      "Epoch 58/100\n",
      " - 25s - loss: 0.0163 - accuracy: 0.9952 - val_loss: 0.0198 - val_accuracy: 0.9952\n",
      "Epoch 59/100\n",
      " - 25s - loss: 0.0165 - accuracy: 0.9946 - val_loss: 0.0195 - val_accuracy: 0.9954\n",
      "Epoch 60/100\n",
      " - 25s - loss: 0.0172 - accuracy: 0.9949 - val_loss: 0.0193 - val_accuracy: 0.9954\n",
      "Epoch 61/100\n",
      " - 28s - loss: 0.0144 - accuracy: 0.9957 - val_loss: 0.0193 - val_accuracy: 0.9952\n",
      "Epoch 62/100\n",
      " - 29s - loss: 0.0175 - accuracy: 0.9952 - val_loss: 0.0192 - val_accuracy: 0.9952\n",
      "Epoch 63/100\n",
      " - 29s - loss: 0.0149 - accuracy: 0.9957 - val_loss: 0.0190 - val_accuracy: 0.9954\n",
      "Epoch 64/100\n",
      " - 28s - loss: 0.0151 - accuracy: 0.9956 - val_loss: 0.0191 - val_accuracy: 0.9956\n",
      "Epoch 65/100\n",
      " - 28s - loss: 0.0154 - accuracy: 0.9957 - val_loss: 0.0193 - val_accuracy: 0.9956\n",
      "Epoch 66/100\n",
      " - 27s - loss: 0.0148 - accuracy: 0.9956 - val_loss: 0.0199 - val_accuracy: 0.9955\n",
      "Epoch 67/100\n",
      " - 27s - loss: 0.0162 - accuracy: 0.9954 - val_loss: 0.0198 - val_accuracy: 0.9954\n",
      "Epoch 68/100\n",
      " - 26s - loss: 0.0158 - accuracy: 0.9951 - val_loss: 0.0196 - val_accuracy: 0.9955\n",
      "Epoch 69/100\n",
      " - 25s - loss: 0.0158 - accuracy: 0.9950 - val_loss: 0.0196 - val_accuracy: 0.9952\n",
      "Epoch 70/100\n",
      " - 25s - loss: 0.0139 - accuracy: 0.9954 - val_loss: 0.0197 - val_accuracy: 0.9956\n",
      "Epoch 71/100\n",
      " - 23s - loss: 0.0161 - accuracy: 0.9953 - val_loss: 0.0198 - val_accuracy: 0.9955\n",
      "Epoch 72/100\n",
      " - 25s - loss: 0.0148 - accuracy: 0.9956 - val_loss: 0.0200 - val_accuracy: 0.9957\n",
      "Epoch 73/100\n",
      " - 28s - loss: 0.0144 - accuracy: 0.9962 - val_loss: 0.0198 - val_accuracy: 0.9956\n",
      "Epoch 74/100\n",
      " - 25s - loss: 0.0151 - accuracy: 0.9952 - val_loss: 0.0196 - val_accuracy: 0.9957\n",
      "Epoch 75/100\n",
      " - 25s - loss: 0.0141 - accuracy: 0.9956 - val_loss: 0.0199 - val_accuracy: 0.9954\n",
      "Epoch 76/100\n",
      " - 25s - loss: 0.0160 - accuracy: 0.9951 - val_loss: 0.0199 - val_accuracy: 0.9952\n",
      "Epoch 77/100\n",
      " - 25s - loss: 0.0146 - accuracy: 0.9960 - val_loss: 0.0199 - val_accuracy: 0.9954\n",
      "Epoch 78/100\n",
      " - 25s - loss: 0.0149 - accuracy: 0.9954 - val_loss: 0.0199 - val_accuracy: 0.9955\n",
      "Epoch 79/100\n",
      " - 25s - loss: 0.0152 - accuracy: 0.9955 - val_loss: 0.0198 - val_accuracy: 0.9951\n",
      "Epoch 80/100\n",
      " - 25s - loss: 0.0151 - accuracy: 0.9953 - val_loss: 0.0195 - val_accuracy: 0.9952\n",
      "Epoch 81/100\n",
      " - 25s - loss: 0.0141 - accuracy: 0.9962 - val_loss: 0.0195 - val_accuracy: 0.9956\n",
      "Epoch 82/100\n",
      " - 25s - loss: 0.0161 - accuracy: 0.9950 - val_loss: 0.0195 - val_accuracy: 0.9956\n",
      "Epoch 83/100\n",
      " - 24s - loss: 0.0147 - accuracy: 0.9959 - val_loss: 0.0196 - val_accuracy: 0.9957\n",
      "Epoch 84/100\n"
     ]
    },
    {
     "name": "stdout",
     "output_type": "stream",
     "text": [
      " - 24s - loss: 0.0134 - accuracy: 0.9961 - val_loss: 0.0197 - val_accuracy: 0.9958\n",
      "Epoch 85/100\n",
      " - 24s - loss: 0.0156 - accuracy: 0.9948 - val_loss: 0.0194 - val_accuracy: 0.9958\n",
      "Epoch 86/100\n",
      " - 24s - loss: 0.0147 - accuracy: 0.9954 - val_loss: 0.0193 - val_accuracy: 0.9960\n",
      "Epoch 87/100\n",
      " - 24s - loss: 0.0143 - accuracy: 0.9958 - val_loss: 0.0193 - val_accuracy: 0.9958\n",
      "Epoch 88/100\n",
      " - 24s - loss: 0.0146 - accuracy: 0.9956 - val_loss: 0.0194 - val_accuracy: 0.9957\n",
      "Epoch 89/100\n",
      " - 24s - loss: 0.0135 - accuracy: 0.9955 - val_loss: 0.0193 - val_accuracy: 0.9958\n",
      "Epoch 90/100\n",
      " - 24s - loss: 0.0148 - accuracy: 0.9957 - val_loss: 0.0195 - val_accuracy: 0.9954\n",
      "Epoch 91/100\n",
      " - 24s - loss: 0.0158 - accuracy: 0.9953 - val_loss: 0.0194 - val_accuracy: 0.9955\n",
      "Epoch 92/100\n",
      " - 25s - loss: 0.0153 - accuracy: 0.9950 - val_loss: 0.0192 - val_accuracy: 0.9954\n",
      "Epoch 93/100\n",
      " - 27s - loss: 0.0138 - accuracy: 0.9956 - val_loss: 0.0196 - val_accuracy: 0.9956\n",
      "Epoch 94/100\n",
      " - 24s - loss: 0.0126 - accuracy: 0.9962 - val_loss: 0.0194 - val_accuracy: 0.9957\n",
      "Epoch 95/100\n",
      " - 24s - loss: 0.0148 - accuracy: 0.9956 - val_loss: 0.0197 - val_accuracy: 0.9956\n",
      "Epoch 96/100\n",
      " - 24s - loss: 0.0153 - accuracy: 0.9954 - val_loss: 0.0191 - val_accuracy: 0.9957\n",
      "Epoch 97/100\n",
      " - 26s - loss: 0.0152 - accuracy: 0.9954 - val_loss: 0.0191 - val_accuracy: 0.9958\n",
      "Epoch 98/100\n",
      " - 24s - loss: 0.0141 - accuracy: 0.9959 - val_loss: 0.0195 - val_accuracy: 0.9960\n",
      "Epoch 99/100\n",
      " - 26s - loss: 0.0131 - accuracy: 0.9960 - val_loss: 0.0194 - val_accuracy: 0.9958\n",
      "Epoch 100/100\n",
      " - 25s - loss: 0.0139 - accuracy: 0.9960 - val_loss: 0.0199 - val_accuracy: 0.9956\n"
     ]
    },
    {
     "data": {
      "text/plain": [
       "<keras.callbacks.callbacks.History at 0x20320ac1bc8>"
      ]
     },
     "execution_count": 13,
     "metadata": {},
     "output_type": "execute_result"
    }
   ],
   "source": [
    "model.fit(igen.flow(x_train, y_train, batch_size=16), epochs=100, validation_data=(x_val, y_val),\n",
    "         verbose = 2, steps_per_epoch=x_train.shape[0] // 16, callbacks=[lr])"
   ]
  },
  {
   "cell_type": "code",
   "execution_count": 14,
   "metadata": {},
   "outputs": [],
   "source": [
    "result = model.predict(test)"
   ]
  },
  {
   "cell_type": "code",
   "execution_count": 15,
   "metadata": {},
   "outputs": [],
   "source": [
    "result = np.argmax(result, axis=1)"
   ]
  },
  {
   "cell_type": "code",
   "execution_count": 16,
   "metadata": {},
   "outputs": [
    {
     "data": {
      "text/plain": [
       "array([2, 0, 9, ..., 3, 9, 2], dtype=int64)"
      ]
     },
     "execution_count": 16,
     "metadata": {},
     "output_type": "execute_result"
    }
   ],
   "source": [
    "result"
   ]
  },
  {
   "cell_type": "code",
   "execution_count": 17,
   "metadata": {},
   "outputs": [],
   "source": [
    "sub = pd.read_csv(\"sample_submission (1).csv\")"
   ]
  },
  {
   "cell_type": "code",
   "execution_count": 18,
   "metadata": {},
   "outputs": [],
   "source": [
    "sub[\"Label\"] = result"
   ]
  },
  {
   "cell_type": "code",
   "execution_count": 19,
   "metadata": {},
   "outputs": [],
   "source": [
    "sub.to_csv(\"try4.csv\", index=False)"
   ]
  },
  {
   "cell_type": "code",
   "execution_count": null,
   "metadata": {},
   "outputs": [],
   "source": []
  }
 ],
 "metadata": {
  "kernelspec": {
   "display_name": "Python 3",
   "language": "python",
   "name": "python3"
  },
  "language_info": {
   "codemirror_mode": {
    "name": "ipython",
    "version": 3
   },
   "file_extension": ".py",
   "mimetype": "text/x-python",
   "name": "python",
   "nbconvert_exporter": "python",
   "pygments_lexer": "ipython3",
   "version": "3.7.6"
  }
 },
 "nbformat": 4,
 "nbformat_minor": 4
}
