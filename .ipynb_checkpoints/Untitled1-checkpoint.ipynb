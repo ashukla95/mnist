{
 "cells": [
  {
   "cell_type": "code",
   "execution_count": 44,
   "metadata": {},
   "outputs": [],
   "source": [
    "import pandas as pd\n",
    "import numpy as np\n",
    "from keras.utils.np_utils import to_categorical\n",
    "from sklearn.model_selection import train_test_split\n",
    "from keras.models import Sequential\n",
    "from keras.layers import Dense, GlobalAvgPool2D, MaxPool2D, Conv2D, Flatten\n",
    "from keras.optimizers import Adam, RMSprop\n",
    "from keras.preprocessing.image import ImageDataGenerator\n",
    "from keras.callbacks import EarlyStopping, ReduceLROnPlateau"
   ]
  },
  {
   "cell_type": "code",
   "execution_count": null,
   "metadata": {},
   "outputs": [],
   "source": []
  },
  {
   "cell_type": "code",
   "execution_count": 4,
   "metadata": {},
   "outputs": [],
   "source": [
    "train_df = pd.read_csv(\"train.csv\")\n",
    "test_df = pd.read_csv(\"test.csv\")"
   ]
  },
  {
   "cell_type": "code",
   "execution_count": 7,
   "metadata": {},
   "outputs": [],
   "source": [
    "x_train = train_df[train_df.keys().drop([\"label\"])].values.reshape(-1,28,28,1)"
   ]
  },
  {
   "cell_type": "code",
   "execution_count": 12,
   "metadata": {},
   "outputs": [],
   "source": [
    "y_train = train_df[\"label\"]"
   ]
  },
  {
   "cell_type": "code",
   "execution_count": 18,
   "metadata": {},
   "outputs": [],
   "source": [
    "y_train = to_categorical(y_train, num_classes=len(y_train.unique()))"
   ]
  },
  {
   "cell_type": "code",
   "execution_count": 20,
   "metadata": {},
   "outputs": [],
   "source": [
    "x_train = x_train/255"
   ]
  },
  {
   "cell_type": "code",
   "execution_count": 23,
   "metadata": {},
   "outputs": [],
   "source": [
    "x_train, x_val, y_train, y_val = train_test_split(x_train, y_train, test_size = 0.2, random_state=42)"
   ]
  },
  {
   "cell_type": "code",
   "execution_count": 27,
   "metadata": {},
   "outputs": [
    {
     "data": {
      "text/plain": [
       "((33600, 28, 28, 1), (8400, 28, 28, 1), (33600, 10), (8400, 10))"
      ]
     },
     "execution_count": 27,
     "metadata": {},
     "output_type": "execute_result"
    }
   ],
   "source": [
    "x_train.shape, x_val.shape, y_train.shape, y_val.shape"
   ]
  },
  {
   "cell_type": "code",
   "execution_count": 64,
   "metadata": {},
   "outputs": [
    {
     "name": "stdout",
     "output_type": "stream",
     "text": [
      "Model: \"sequential_2\"\n",
      "_________________________________________________________________\n",
      "Layer (type)                 Output Shape              Param #   \n",
      "=================================================================\n",
      "conv2d_9 (Conv2D)            (None, 28, 28, 32)        320       \n",
      "_________________________________________________________________\n",
      "conv2d_10 (Conv2D)           (None, 28, 28, 32)        9248      \n",
      "_________________________________________________________________\n",
      "max_pooling2d_8 (MaxPooling2 (None, 14, 14, 32)        0         \n",
      "_________________________________________________________________\n",
      "flatten_2 (Flatten)          (None, 6272)              0         \n",
      "_________________________________________________________________\n",
      "dense_4 (Dense)              (None, 512)               3211776   \n",
      "_________________________________________________________________\n",
      "dense_5 (Dense)              (None, 256)               131328    \n",
      "_________________________________________________________________\n",
      "dense_6 (Dense)              (None, 10)                2570      \n",
      "=================================================================\n",
      "Total params: 3,355,242\n",
      "Trainable params: 3,355,242\n",
      "Non-trainable params: 0\n",
      "_________________________________________________________________\n"
     ]
    }
   ],
   "source": [
    "model = Sequential()\n",
    "model.add(Conv2D(filters=32, kernel_size=(3,3), input_shape=(28,28,1), activation=\"relu\", padding=\"same\"))\n",
    "model.add(Conv2D(filters=32, kernel_size=(3,3), activation=\"relu\", padding=\"same\"))\n",
    "model.add(MaxPool2D(pool_size=(2,2)))\n",
    "model.add(Conv2D(filters=32, kernel_size=(3,3), activation=\"relu\", padding=\"same\"))\n",
    "model.add(Conv2D(filters=32, kernel_size=(3,3), activation=\"relu\", padding=\"same\"))\n",
    "model.add(MaxPool2D(pool_size=(2,2)))\n",
    "model.add(Flatten())\n",
    "model.add(Dense(512, activation=\"relu\"))\n",
    "model.add(Dense(256, activation=\"relu\"))\n",
    "model.add(Dense(10, activation=\"softmax\"))\n",
    "model.summary()"
   ]
  },
  {
   "cell_type": "code",
   "execution_count": 65,
   "metadata": {},
   "outputs": [],
   "source": [
    "lr = ReduceLROnPlateau(    monitor=\"val_loss\",\n",
    "    factor=0.1,\n",
    "    patience=10,\n",
    "    verbose=0,\n",
    "    mode=\"auto\",\n",
    "    min_delta=0.0001,\n",
    "    cooldown=0,\n",
    "    min_lr=0,)\n",
    "es = EarlyStopping(monitor=\"val_loss\", patience=4, restore_best_weights=True)\n",
    "optm = Adam(learning_rate=0.001)\n",
    "model.compile(optimizer=optm, loss=\"categorical_crossentropy\", metrics=[\"accuracy\"])\n"
   ]
  },
  {
   "cell_type": "code",
   "execution_count": 66,
   "metadata": {},
   "outputs": [],
   "source": [
    "igen =  ImageDataGenerator(rotation_range=10, width_shift_range=0.2, height_shift_range=0.2)\n",
    "igen.fit(x_train)"
   ]
  },
  {
   "cell_type": "code",
   "execution_count": 67,
   "metadata": {},
   "outputs": [
    {
     "name": "stdout",
     "output_type": "stream",
     "text": [
      "Epoch 1/100\n",
      "525/525 [==============================] - 6s 12ms/step - loss: 0.4524 - accuracy: 0.8518 - val_loss: 0.1095 - val_accuracy: 0.9663\n",
      "Epoch 2/100\n",
      "525/525 [==============================] - 6s 11ms/step - loss: 0.1549 - accuracy: 0.9521 - val_loss: 0.0799 - val_accuracy: 0.9752\n",
      "Epoch 3/100\n",
      "525/525 [==============================] - 6s 11ms/step - loss: 0.1157 - accuracy: 0.9647 - val_loss: 0.0725 - val_accuracy: 0.9782\n",
      "Epoch 4/100\n",
      "525/525 [==============================] - 6s 12ms/step - loss: 0.0984 - accuracy: 0.9701 - val_loss: 0.0793 - val_accuracy: 0.9761\n",
      "Epoch 5/100\n",
      "525/525 [==============================] - 6s 11ms/step - loss: 0.0838 - accuracy: 0.9733 - val_loss: 0.0512 - val_accuracy: 0.9849\n",
      "Epoch 6/100\n",
      "525/525 [==============================] - 6s 11ms/step - loss: 0.0780 - accuracy: 0.9752 - val_loss: 0.0510 - val_accuracy: 0.9832\n",
      "Epoch 7/100\n",
      "525/525 [==============================] - 7s 13ms/step - loss: 0.0701 - accuracy: 0.9785 - val_loss: 0.0467 - val_accuracy: 0.9857\n",
      "Epoch 8/100\n",
      "525/525 [==============================] - 6s 11ms/step - loss: 0.0642 - accuracy: 0.9810 - val_loss: 0.0576 - val_accuracy: 0.9825\n",
      "Epoch 9/100\n",
      "525/525 [==============================] - 6s 12ms/step - loss: 0.0618 - accuracy: 0.9810 - val_loss: 0.0374 - val_accuracy: 0.9899\n",
      "Epoch 10/100\n",
      "525/525 [==============================] - 7s 13ms/step - loss: 0.0569 - accuracy: 0.9819 - val_loss: 0.0358 - val_accuracy: 0.9902\n",
      "Epoch 11/100\n",
      "525/525 [==============================] - 6s 12ms/step - loss: 0.0531 - accuracy: 0.9834 - val_loss: 0.0368 - val_accuracy: 0.9871\n",
      "Epoch 12/100\n",
      "525/525 [==============================] - 7s 13ms/step - loss: 0.0538 - accuracy: 0.9826 - val_loss: 0.0395 - val_accuracy: 0.9876.\n",
      "Epoch 13/100\n",
      "525/525 [==============================] - 7s 14ms/step - loss: 0.0513 - accuracy: 0.9845 - val_loss: 0.0508 - val_accuracy: 0.9846\n",
      "Epoch 14/100\n",
      "525/525 [==============================] - 7s 13ms/step - loss: 0.0464 - accuracy: 0.9851 - val_loss: 0.0294 - val_accuracy: 0.9917\n",
      "Epoch 15/100\n",
      "525/525 [==============================] - 7s 13ms/step - loss: 0.0464 - accuracy: 0.9863 - val_loss: 0.0450 - val_accuracy: 0.9848\n",
      "Epoch 16/100\n",
      "525/525 [==============================] - 8s 14ms/step - loss: 0.0456 - accuracy: 0.9865 - val_loss: 0.0365 - val_accuracy: 0.9887\n",
      "Epoch 17/100\n",
      "525/525 [==============================] - 7s 14ms/step - loss: 0.0435 - accuracy: 0.9867 - val_loss: 0.0451 - val_accuracy: 0.9855\n",
      "Epoch 18/100\n",
      "525/525 [==============================] - 7s 14ms/step - loss: 0.0403 - accuracy: 0.9869 - val_loss: 0.0288 - val_accuracy: 0.9911\n",
      "Epoch 19/100\n",
      "525/525 [==============================] - 8s 15ms/step - loss: 0.0413 - accuracy: 0.9874 - val_loss: 0.0269 - val_accuracy: 0.9925\n",
      "Epoch 20/100\n",
      "525/525 [==============================] - 7s 14ms/step - loss: 0.0398 - accuracy: 0.9877 - val_loss: 0.0261 - val_accuracy: 0.9918\n",
      "Epoch 21/100\n",
      "525/525 [==============================] - 7s 14ms/step - loss: 0.0387 - accuracy: 0.9883 - val_loss: 0.0367 - val_accuracy: 0.9890\n",
      "Epoch 22/100\n",
      "525/525 [==============================] - 8s 16ms/step - loss: 0.0359 - accuracy: 0.9885 - val_loss: 0.0292 - val_accuracy: 0.9915loss:\n",
      "Epoch 23/100\n",
      "525/525 [==============================] - 8s 15ms/step - loss: 0.0370 - accuracy: 0.9883 - val_loss: 0.0319 - val_accuracy: 0.9908\n",
      "Epoch 24/100\n",
      "525/525 [==============================] - 8s 14ms/step - loss: 0.0346 - accuracy: 0.9891 - val_loss: 0.0274 - val_accuracy: 0.9906\n"
     ]
    },
    {
     "data": {
      "text/plain": [
       "<keras.callbacks.callbacks.History at 0x1f917a35ec8>"
      ]
     },
     "execution_count": 67,
     "metadata": {},
     "output_type": "execute_result"
    }
   ],
   "source": [
    "model.fit(igen.flow(x_train, y_train, batch_size=64), \n",
    "          epochs=100, steps_per_epoch=x_train.shape[0]//64,\n",
    "          validation_data=(x_val, y_val), verbose=1, callbacks=[lr, es])"
   ]
  },
  {
   "cell_type": "code",
   "execution_count": 68,
   "metadata": {},
   "outputs": [],
   "source": [
    "x_test = test_df.values.reshape(-1,28,28,1)/255"
   ]
  },
  {
   "cell_type": "code",
   "execution_count": 69,
   "metadata": {},
   "outputs": [],
   "source": [
    "result = model.predict(x_test)"
   ]
  },
  {
   "cell_type": "code",
   "execution_count": 70,
   "metadata": {},
   "outputs": [],
   "source": [
    "result = np.argmax(result, axis=1)"
   ]
  },
  {
   "cell_type": "code",
   "execution_count": 71,
   "metadata": {},
   "outputs": [
    {
     "data": {
      "text/plain": [
       "array([2, 0, 9, ..., 3, 9, 2], dtype=int64)"
      ]
     },
     "execution_count": 71,
     "metadata": {},
     "output_type": "execute_result"
    }
   ],
   "source": [
    "result"
   ]
  },
  {
   "cell_type": "code",
   "execution_count": 72,
   "metadata": {},
   "outputs": [],
   "source": [
    "sub = pd.read_csv(\"sample_submission (1).csv\")"
   ]
  },
  {
   "cell_type": "code",
   "execution_count": 73,
   "metadata": {},
   "outputs": [
    {
     "data": {
      "text/html": [
       "<div>\n",
       "<style scoped>\n",
       "    .dataframe tbody tr th:only-of-type {\n",
       "        vertical-align: middle;\n",
       "    }\n",
       "\n",
       "    .dataframe tbody tr th {\n",
       "        vertical-align: top;\n",
       "    }\n",
       "\n",
       "    .dataframe thead th {\n",
       "        text-align: right;\n",
       "    }\n",
       "</style>\n",
       "<table border=\"1\" class=\"dataframe\">\n",
       "  <thead>\n",
       "    <tr style=\"text-align: right;\">\n",
       "      <th></th>\n",
       "      <th>ImageId</th>\n",
       "      <th>Label</th>\n",
       "    </tr>\n",
       "  </thead>\n",
       "  <tbody>\n",
       "    <tr>\n",
       "      <th>0</th>\n",
       "      <td>1</td>\n",
       "      <td>0</td>\n",
       "    </tr>\n",
       "    <tr>\n",
       "      <th>1</th>\n",
       "      <td>2</td>\n",
       "      <td>0</td>\n",
       "    </tr>\n",
       "    <tr>\n",
       "      <th>2</th>\n",
       "      <td>3</td>\n",
       "      <td>0</td>\n",
       "    </tr>\n",
       "    <tr>\n",
       "      <th>3</th>\n",
       "      <td>4</td>\n",
       "      <td>0</td>\n",
       "    </tr>\n",
       "    <tr>\n",
       "      <th>4</th>\n",
       "      <td>5</td>\n",
       "      <td>0</td>\n",
       "    </tr>\n",
       "    <tr>\n",
       "      <th>5</th>\n",
       "      <td>6</td>\n",
       "      <td>0</td>\n",
       "    </tr>\n",
       "    <tr>\n",
       "      <th>6</th>\n",
       "      <td>7</td>\n",
       "      <td>0</td>\n",
       "    </tr>\n",
       "    <tr>\n",
       "      <th>7</th>\n",
       "      <td>8</td>\n",
       "      <td>0</td>\n",
       "    </tr>\n",
       "    <tr>\n",
       "      <th>8</th>\n",
       "      <td>9</td>\n",
       "      <td>0</td>\n",
       "    </tr>\n",
       "    <tr>\n",
       "      <th>9</th>\n",
       "      <td>10</td>\n",
       "      <td>0</td>\n",
       "    </tr>\n",
       "  </tbody>\n",
       "</table>\n",
       "</div>"
      ],
      "text/plain": [
       "   ImageId  Label\n",
       "0        1      0\n",
       "1        2      0\n",
       "2        3      0\n",
       "3        4      0\n",
       "4        5      0\n",
       "5        6      0\n",
       "6        7      0\n",
       "7        8      0\n",
       "8        9      0\n",
       "9       10      0"
      ]
     },
     "execution_count": 73,
     "metadata": {},
     "output_type": "execute_result"
    }
   ],
   "source": [
    "sub.head(10)"
   ]
  },
  {
   "cell_type": "code",
   "execution_count": 74,
   "metadata": {},
   "outputs": [],
   "source": [
    "sub[\"Label\"] = result"
   ]
  },
  {
   "cell_type": "code",
   "execution_count": 75,
   "metadata": {},
   "outputs": [],
   "source": [
    "sub.to_csv(\"restart_exp_1.csv\", index=False)"
   ]
  },
  {
   "cell_type": "code",
   "execution_count": null,
   "metadata": {},
   "outputs": [],
   "source": []
  }
 ],
 "metadata": {
  "kernelspec": {
   "display_name": "Python 3",
   "language": "python",
   "name": "python3"
  },
  "language_info": {
   "codemirror_mode": {
    "name": "ipython",
    "version": 3
   },
   "file_extension": ".py",
   "mimetype": "text/x-python",
   "name": "python",
   "nbconvert_exporter": "python",
   "pygments_lexer": "ipython3",
   "version": "3.7.6"
  }
 },
 "nbformat": 4,
 "nbformat_minor": 4
}
