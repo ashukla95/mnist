{
 "cells": [
  {
   "cell_type": "code",
   "execution_count": 51,
   "metadata": {},
   "outputs": [],
   "source": [
    "import pandas as pd\n",
    "from keras.utils.np_utils import to_categorical\n",
    "from sklearn.model_selection import train_test_split\n",
    "import matplotlib.pyplot as plt\n",
    "from keras.models import Sequential, Model\n",
    "from keras.layers import Conv2D, MaxPool2D, GlobalAvgPool2D, Flatten, Dense, Dropout\n",
    "from keras.optimizers import Adam, RMSprop\n",
    "from keras.preprocessing.image import ImageDataGenerator\n",
    "import numpy as np"
   ]
  },
  {
   "cell_type": "code",
   "execution_count": 43,
   "metadata": {},
   "outputs": [],
   "source": [
    "train_df = pd.read_csv(\"train.csv\")\n",
    "test_df = pd.read_csv(\"test.csv\")"
   ]
  },
  {
   "cell_type": "code",
   "execution_count": 27,
   "metadata": {},
   "outputs": [],
   "source": [
    "y_train = train_df[\"label\"].values\n",
    "x_train = train_df[train_df.keys().drop([\"label\"])].values.reshape(-1,28,28,1)\n",
    "x_train = x_train/255"
   ]
  },
  {
   "cell_type": "code",
   "execution_count": 28,
   "metadata": {},
   "outputs": [],
   "source": [
    "test = test_df.values\n",
    "test = test/255\n",
    "test = test.reshape(-1, 28,28,1)"
   ]
  },
  {
   "cell_type": "code",
   "execution_count": 30,
   "metadata": {},
   "outputs": [],
   "source": [
    "y_train = to_categorical(y_train, num_classes=10)"
   ]
  },
  {
   "cell_type": "code",
   "execution_count": 31,
   "metadata": {},
   "outputs": [
    {
     "data": {
      "text/plain": [
       "array([[0., 1., 0., ..., 0., 0., 0.],\n",
       "       [1., 0., 0., ..., 0., 0., 0.],\n",
       "       [0., 1., 0., ..., 0., 0., 0.],\n",
       "       ...,\n",
       "       [0., 0., 0., ..., 1., 0., 0.],\n",
       "       [0., 0., 0., ..., 0., 0., 0.],\n",
       "       [0., 0., 0., ..., 0., 0., 1.]], dtype=float32)"
      ]
     },
     "execution_count": 31,
     "metadata": {},
     "output_type": "execute_result"
    }
   ],
   "source": [
    "y_train"
   ]
  },
  {
   "cell_type": "code",
   "execution_count": 33,
   "metadata": {},
   "outputs": [],
   "source": [
    "x_train, x_val, y_train, y_val = train_test_split(x_train, y_train, test_size=0.2, random_state=42)"
   ]
  },
  {
   "cell_type": "code",
   "execution_count": 38,
   "metadata": {},
   "outputs": [
    {
     "data": {
      "text/plain": [
       "<matplotlib.image.AxesImage at 0x2c0d8122c48>"
      ]
     },
     "execution_count": 38,
     "metadata": {},
     "output_type": "execute_result"
    },
    {
     "data": {
      "image/png": "[encoded data removed]",
      "text/plain": [
       "<Figure size 432x288 with 1 Axes>"
      ]
     },
     "metadata": {
      "needs_background": "light"
     },
     "output_type": "display_data"
    }
   ],
   "source": [
    "plt.imshow(x_train[0][:,:,0])"
   ]
  },
  {
   "cell_type": "code",
   "execution_count": 41,
   "metadata": {},
   "outputs": [
    {
     "name": "stdout",
     "output_type": "stream",
     "text": [
      "Model: \"sequential_2\"\n",
      "_________________________________________________________________\n",
      "Layer (type)                 Output Shape              Param #   \n",
      "=================================================================\n",
      "conv2d_5 (Conv2D)            (None, 28, 28, 32)        320       \n",
      "_________________________________________________________________\n",
      "conv2d_6 (Conv2D)            (None, 28, 28, 32)        9248      \n",
      "_________________________________________________________________\n",
      "max_pooling2d_3 (MaxPooling2 (None, 14, 14, 32)        0         \n",
      "_________________________________________________________________\n",
      "dropout_4 (Dropout)          (None, 14, 14, 32)        0         \n",
      "_________________________________________________________________\n",
      "conv2d_7 (Conv2D)            (None, 14, 14, 64)        18496     \n",
      "_________________________________________________________________\n",
      "conv2d_8 (Conv2D)            (None, 14, 14, 64)        36928     \n",
      "_________________________________________________________________\n",
      "max_pooling2d_4 (MaxPooling2 (None, 7, 7, 64)          0         \n",
      "_________________________________________________________________\n",
      "dropout_5 (Dropout)          (None, 7, 7, 64)          0         \n",
      "_________________________________________________________________\n",
      "flatten_2 (Flatten)          (None, 3136)              0         \n",
      "_________________________________________________________________\n",
      "dense_2 (Dense)              (None, 256)               803072    \n",
      "_________________________________________________________________\n",
      "dropout_6 (Dropout)          (None, 256)               0         \n",
      "_________________________________________________________________\n",
      "dense_3 (Dense)              (None, 10)                2570      \n",
      "=================================================================\n",
      "Total params: 870,634\n",
      "Trainable params: 870,634\n",
      "Non-trainable params: 0\n",
      "_________________________________________________________________\n"
     ]
    }
   ],
   "source": [
    "model = Sequential()\n",
    "model.add(Conv2D(filters=32, kernel_size=(3,3), input_shape=(28,28,1), activation=\"relu\", padding=\"Same\"))\n",
    "model.add(Conv2D(filters=32, kernel_size=(3,3), activation=\"relu\", padding=\"Same\"))\n",
    "model.add(MaxPool2D(pool_size=(2,2)))\n",
    "model.add(Dropout(0.5))\n",
    "\n",
    "model.add(Conv2D(filters=64, kernel_size=(3,3), activation=\"relu\", padding=\"Same\"))\n",
    "model.add(Conv2D(filters=64, kernel_size=(3,3), activation=\"relu\", padding=\"Same\"))\n",
    "model.add(MaxPool2D(pool_size=(2,2)))\n",
    "model.add(Dropout(0.5))\n",
    "\n",
    "model.add(Flatten())\n",
    "model.add(Dense(256, activation=\"relu\"))\n",
    "model.add(Dropout(0.25))\n",
    "model.add(Dense(10, activation=\"softmax\"))\n",
    "model.summary()"
   ]
  },
  {
   "cell_type": "code",
   "execution_count": 44,
   "metadata": {},
   "outputs": [],
   "source": [
    "model.compile(optimizer=\"adam\", loss=\"categorical_crossentropy\", metrics=[\"accuracy\"])"
   ]
  },
  {
   "cell_type": "code",
   "execution_count": 46,
   "metadata": {},
   "outputs": [],
   "source": [
    "igen = ImageDataGenerator(\n",
    "    rotation_range=8,\n",
    "    width_shift_range=0.1,\n",
    "    height_shift_range=0.1\n",
    ")\n",
    "igen.fit(x_train)"
   ]
  },
  {
   "cell_type": "code",
   "execution_count": 47,
   "metadata": {},
   "outputs": [
    {
     "name": "stdout",
     "output_type": "stream",
     "text": [
      "Epoch 1/30\n",
      " - 21s - loss: 0.3924 - accuracy: 0.8726 - val_loss: 0.0633 - val_accuracy: 0.9792\n",
      "Epoch 2/30\n",
      " - 7s - loss: 0.1360 - accuracy: 0.9587 - val_loss: 0.0408 - val_accuracy: 0.9868\n",
      "Epoch 3/30\n",
      " - 8s - loss: 0.1051 - accuracy: 0.9671 - val_loss: 0.0339 - val_accuracy: 0.9889\n",
      "Epoch 4/30\n",
      " - 8s - loss: 0.0864 - accuracy: 0.9742 - val_loss: 0.0364 - val_accuracy: 0.9894\n",
      "Epoch 5/30\n",
      " - 8s - loss: 0.0828 - accuracy: 0.9741 - val_loss: 0.0284 - val_accuracy: 0.9910\n",
      "Epoch 6/30\n",
      " - 8s - loss: 0.0759 - accuracy: 0.9776 - val_loss: 0.0418 - val_accuracy: 0.9879\n",
      "Epoch 7/30\n",
      " - 8s - loss: 0.0715 - accuracy: 0.9780 - val_loss: 0.0294 - val_accuracy: 0.9911\n",
      "Epoch 8/30\n",
      " - 9s - loss: 0.0644 - accuracy: 0.9802 - val_loss: 0.0279 - val_accuracy: 0.9911\n",
      "Epoch 9/30\n",
      " - 9s - loss: 0.0640 - accuracy: 0.9810 - val_loss: 0.0234 - val_accuracy: 0.9917\n",
      "Epoch 10/30\n",
      " - 9s - loss: 0.0548 - accuracy: 0.9827 - val_loss: 0.0271 - val_accuracy: 0.9923\n",
      "Epoch 11/30\n",
      " - 10s - loss: 0.0568 - accuracy: 0.9835 - val_loss: 0.0230 - val_accuracy: 0.9924\n",
      "Epoch 12/30\n",
      " - 10s - loss: 0.0530 - accuracy: 0.9838 - val_loss: 0.0234 - val_accuracy: 0.9932\n",
      "Epoch 13/30\n",
      " - 10s - loss: 0.0523 - accuracy: 0.9836 - val_loss: 0.0217 - val_accuracy: 0.9935\n",
      "Epoch 14/30\n",
      " - 8s - loss: 0.0518 - accuracy: 0.9839 - val_loss: 0.0254 - val_accuracy: 0.9914\n",
      "Epoch 15/30\n",
      " - 8s - loss: 0.0509 - accuracy: 0.9840 - val_loss: 0.0217 - val_accuracy: 0.9929\n",
      "Epoch 16/30\n",
      " - 8s - loss: 0.0513 - accuracy: 0.9849 - val_loss: 0.0193 - val_accuracy: 0.9943\n",
      "Epoch 17/30\n",
      " - 9s - loss: 0.0498 - accuracy: 0.9849 - val_loss: 0.0215 - val_accuracy: 0.9930\n",
      "Epoch 18/30\n",
      " - 11s - loss: 0.0477 - accuracy: 0.9847 - val_loss: 0.0206 - val_accuracy: 0.9935\n",
      "Epoch 19/30\n",
      " - 12s - loss: 0.0482 - accuracy: 0.9854 - val_loss: 0.0213 - val_accuracy: 0.9924\n",
      "Epoch 20/30\n",
      " - 12s - loss: 0.0456 - accuracy: 0.9868 - val_loss: 0.0224 - val_accuracy: 0.9929\n",
      "Epoch 21/30\n",
      " - 12s - loss: 0.0442 - accuracy: 0.9868 - val_loss: 0.0248 - val_accuracy: 0.9933\n",
      "Epoch 22/30\n",
      " - 11s - loss: 0.0461 - accuracy: 0.9857 - val_loss: 0.0228 - val_accuracy: 0.9930\n",
      "Epoch 23/30\n",
      " - 11s - loss: 0.0464 - accuracy: 0.9866 - val_loss: 0.0216 - val_accuracy: 0.9933\n",
      "Epoch 24/30\n",
      " - 12s - loss: 0.0463 - accuracy: 0.9861 - val_loss: 0.0194 - val_accuracy: 0.9943\n",
      "Epoch 25/30\n",
      " - 12s - loss: 0.0431 - accuracy: 0.9877 - val_loss: 0.0194 - val_accuracy: 0.9943\n",
      "Epoch 26/30\n",
      " - 12s - loss: 0.0428 - accuracy: 0.9870 - val_loss: 0.0190 - val_accuracy: 0.9936\n",
      "Epoch 27/30\n",
      " - 12s - loss: 0.0441 - accuracy: 0.9864 - val_loss: 0.0202 - val_accuracy: 0.9938\n",
      "Epoch 28/30\n",
      " - 12s - loss: 0.0410 - accuracy: 0.9879 - val_loss: 0.0199 - val_accuracy: 0.9936\n",
      "Epoch 29/30\n",
      " - 12s - loss: 0.0399 - accuracy: 0.9878 - val_loss: 0.0231 - val_accuracy: 0.9933\n",
      "Epoch 30/30\n",
      " - 17s - loss: 0.0413 - accuracy: 0.9877 - val_loss: 0.0266 - val_accuracy: 0.9921\n"
     ]
    },
    {
     "data": {
      "text/plain": [
       "<keras.callbacks.callbacks.History at 0x2c2b0548888>"
      ]
     },
     "execution_count": 47,
     "metadata": {},
     "output_type": "execute_result"
    }
   ],
   "source": [
    "model.fit(igen.flow(x_train, y_train, batch_size=32), epochs=30, validation_data=(x_val, y_val),\n",
    "         verbose = 2, steps_per_epoch=x_train.shape[0] // 32)"
   ]
  },
  {
   "cell_type": "code",
   "execution_count": 49,
   "metadata": {},
   "outputs": [],
   "source": [
    "result = model.predict(test)"
   ]
  },
  {
   "cell_type": "code",
   "execution_count": 52,
   "metadata": {},
   "outputs": [],
   "source": [
    "result = np.argmax(result, axis=1)"
   ]
  },
  {
   "cell_type": "code",
   "execution_count": 53,
   "metadata": {},
   "outputs": [
    {
     "data": {
      "text/plain": [
       "array([2, 0, 9, ..., 3, 9, 2], dtype=int64)"
      ]
     },
     "execution_count": 53,
     "metadata": {},
     "output_type": "execute_result"
    }
   ],
   "source": [
    "result"
   ]
  },
  {
   "cell_type": "code",
   "execution_count": 54,
   "metadata": {},
   "outputs": [],
   "source": [
    "sub = pd.read_csv(\"sample_submission (1).csv\")"
   ]
  },
  {
   "cell_type": "code",
   "execution_count": 56,
   "metadata": {},
   "outputs": [],
   "source": [
    "sub[\"Label\"] = result"
   ]
  },
  {
   "cell_type": "code",
   "execution_count": 58,
   "metadata": {},
   "outputs": [],
   "source": [
    "sub.to_csv(\"try1.csv\", index=False)"
   ]
  },
  {
   "cell_type": "code",
   "execution_count": null,
   "metadata": {},
   "outputs": [],
   "source": []
  }
 ],
 "metadata": {
  "kernelspec": {
   "display_name": "Python 3",
   "language": "python",
   "name": "python3"
  },
  "language_info": {
   "codemirror_mode": {
    "name": "ipython",
    "version": 3
   },
   "file_extension": ".py",
   "mimetype": "text/x-python",
   "name": "python",
   "nbconvert_exporter": "python",
   "pygments_lexer": "ipython3",
   "version": "3.7.6"
  }
 },
 "nbformat": 4,
 "nbformat_minor": 4
}
