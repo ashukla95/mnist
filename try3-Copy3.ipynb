{
 "cells": [
  {
   "cell_type": "code",
   "execution_count": 12,
   "metadata": {},
   "outputs": [],
   "source": [
    "import pandas as pd\n",
    "from keras.utils.np_utils import to_categorical\n",
    "from sklearn.model_selection import train_test_split\n",
    "import matplotlib.pyplot as plt\n",
    "from keras.models import Sequential, Model\n",
    "from keras.layers import Conv2D, MaxPool2D, GlobalAvgPool2D, Flatten, Dense, Dropout, BatchNormalization\n",
    "from keras.optimizers import Adam, RMSprop\n",
    "from keras.preprocessing.image import ImageDataGenerator\n",
    "import numpy as np\n",
    "from keras.callbacks import ReduceLROnPlateau\n",
    "from keras.applications import ResNet50\n",
    "import keras"
   ]
  },
  {
   "cell_type": "code",
   "execution_count": 2,
   "metadata": {},
   "outputs": [],
   "source": [
    "train_df = pd.read_csv(\"train.csv\")\n",
    "test_df = pd.read_csv(\"test.csv\")"
   ]
  },
  {
   "cell_type": "code",
   "execution_count": 3,
   "metadata": {},
   "outputs": [],
   "source": [
    "y_train = train_df[\"label\"].values\n",
    "x_train = train_df[train_df.keys().drop([\"label\"])].values.reshape(-1,28,28,1)\n",
    "x_train = x_train/255"
   ]
  },
  {
   "cell_type": "code",
   "execution_count": 4,
   "metadata": {},
   "outputs": [],
   "source": [
    "test = test_df.values\n",
    "test = test/255\n",
    "test = test.reshape(-1, 28,28,1)"
   ]
  },
  {
   "cell_type": "code",
   "execution_count": 5,
   "metadata": {},
   "outputs": [],
   "source": [
    "y_train = to_categorical(y_train, num_classes=10)"
   ]
  },
  {
   "cell_type": "code",
   "execution_count": 6,
   "metadata": {},
   "outputs": [
    {
     "data": {
      "text/plain": [
       "array([[0., 1., 0., ..., 0., 0., 0.],\n",
       "       [1., 0., 0., ..., 0., 0., 0.],\n",
       "       [0., 1., 0., ..., 0., 0., 0.],\n",
       "       ...,\n",
       "       [0., 0., 0., ..., 1., 0., 0.],\n",
       "       [0., 0., 0., ..., 0., 0., 0.],\n",
       "       [0., 0., 0., ..., 0., 0., 1.]], dtype=float32)"
      ]
     },
     "execution_count": 6,
     "metadata": {},
     "output_type": "execute_result"
    }
   ],
   "source": [
    "y_train"
   ]
  },
  {
   "cell_type": "code",
   "execution_count": 7,
   "metadata": {},
   "outputs": [],
   "source": [
    "x_train, x_val, y_train, y_val = train_test_split(x_train, y_train, test_size=0.2, random_state=42)"
   ]
  },
  {
   "cell_type": "code",
   "execution_count": 8,
   "metadata": {},
   "outputs": [
    {
     "data": {
      "text/plain": [
       "<matplotlib.image.AxesImage at 0x1ec73810e88>"
      ]
     },
     "execution_count": 8,
     "metadata": {},
     "output_type": "execute_result"
    },
    {
     "data": {
      "image/png": "[encoded data removed]",
      "text/plain": [
       "<Figure size 432x288 with 1 Axes>"
      ]
     },
     "metadata": {
      "needs_background": "light"
     },
     "output_type": "display_data"
    }
   ],
   "source": [
    "plt.imshow(x_train[0][:,:,0])"
   ]
  },
  {
   "cell_type": "code",
   "execution_count": 9,
   "metadata": {},
   "outputs": [
    {
     "name": "stdout",
     "output_type": "stream",
     "text": [
      "Model: \"sequential_1\"\n",
      "_________________________________________________________________\n",
      "Layer (type)                 Output Shape              Param #   \n",
      "=================================================================\n",
      "conv1 (Conv2D)               (None, 28, 28, 16)        416       \n",
      "_________________________________________________________________\n",
      "conv2 (Conv2D)               (None, 28, 28, 16)        6416      \n",
      "_________________________________________________________________\n",
      "pool1 (MaxPooling2D)         (None, 14, 14, 16)        0         \n",
      "_________________________________________________________________\n",
      "conv3 (Conv2D)               (None, 14, 14, 32)        12832     \n",
      "_________________________________________________________________\n",
      "conv4 (Conv2D)               (None, 14, 14, 32)        9248      \n",
      "_________________________________________________________________\n",
      "pool2 (MaxPooling2D)         (None, 7, 7, 32)          0         \n",
      "_________________________________________________________________\n",
      "conv5 (Conv2D)               (None, 7, 7, 64)          18496     \n",
      "_________________________________________________________________\n",
      "conv6 (Conv2D)               (None, 5, 5, 64)          36928     \n",
      "_________________________________________________________________\n",
      "flat (Flatten)               (None, 1600)              0         \n",
      "_________________________________________________________________\n",
      "dense1 (Dense)               (None, 512)               819712    \n",
      "_________________________________________________________________\n",
      "dropout (Dropout)            (None, 512)               0         \n",
      "_________________________________________________________________\n",
      "res (Dense)                  (None, 10)                5130      \n",
      "=================================================================\n",
      "Total params: 909,178\n",
      "Trainable params: 909,178\n",
      "Non-trainable params: 0\n",
      "_________________________________________________________________\n"
     ]
    }
   ],
   "source": [
    "# model = Sequential()\n",
    "# model.add(Conv2D(filters=32, kernel_size=(5,5), input_shape=(28,28,1), activation=\"relu\", padding=\"Same\"))\n",
    "# model.add(Conv2D(filters=32, kernel_size=(5,5), activation=\"relu\", padding=\"Same\"))\n",
    "# model.add(Conv2D(filters=64, kernel_size=(3,3), activation=\"relu\", padding=\"Same\"))\n",
    "# model.add(Conv2D(filters=64, kernel_size=(3,3), activation=\"relu\", padding=\"Same\"))\n",
    "# model.add(MaxPool2D(pool_size=(2,2)))\n",
    "# model.add(Dropout(0.25))\n",
    "\n",
    "# model.add(Conv2D(filters=128, kernel_size=(3,3), activation=\"relu\", padding=\"Same\"))\n",
    "# model.add(Conv2D(filters=128, kernel_size=(3,3), activation=\"relu\", padding=\"Same\"))\n",
    "# model.add(MaxPool2D(pool_size=(2,2)))\n",
    "# model.add(Dropout(0.25))\n",
    "\n",
    "# model.add(Flatten())\n",
    "# model.add(Dense(256, activation=\"relu\"))\n",
    "# model.add(Dropout(0.5))\n",
    "# model.add(Dense(10, activation=\"softmax\"))\n",
    "# model.summary()\n",
    "\n",
    "# model = Sequential()\n",
    "\n",
    "# model.add(Conv2D(filters = 64, kernel_size = (5,5),padding = 'Same', activation ='relu', input_shape = (28,28,1)))\n",
    "# model.add(BatchNormalization())\n",
    "\n",
    "# model.add(Conv2D(filters = 64, kernel_size = (5,5),padding = 'Same', activation ='relu'))\n",
    "# model.add(BatchNormalization())\n",
    "\n",
    "# model.add(MaxPool2D(pool_size=(2,2)))\n",
    "# model.add(Dropout(0.25))\n",
    "\n",
    "# model.add(Conv2D(filters = 64, kernel_size = (3,3),padding = 'Same', activation ='relu'))\n",
    "# model.add(BatchNormalization())\n",
    "\n",
    "# model.add(Conv2D(filters = 64, kernel_size = (3,3),padding = 'Same', activation ='relu'))\n",
    "# model.add(BatchNormalization())\n",
    "# model.add(MaxPool2D(pool_size=(2,2), strides=(2,2)))\n",
    "# model.add(Dropout(0.25))\n",
    "\n",
    "# model.add(Conv2D(filters = 64, kernel_size = (3,3), padding = 'Same',  activation ='relu'))\n",
    "# model.add(BatchNormalization())\n",
    "# model.add(Dropout(0.25))\n",
    "\n",
    "# model.add(Flatten())\n",
    "# model.add(Dense(256, activation = \"relu\"))\n",
    "# model.add(BatchNormalization())\n",
    "# model.add(Dropout(0.25))\n",
    "\n",
    "# model.add(Dense(10, activation = \"softmax\"))\n",
    "# model.summary()\n",
    "\n",
    "#designing the model\n",
    "model = Sequential()\n",
    "model.add(Conv2D(filters=16, kernel_size=5, strides=1, padding='same', activation='relu', input_shape=(28, 28, 1), name='conv1'))\n",
    "model.add(Conv2D(filters=16, kernel_size=5, strides=1, padding='same', activation='relu', input_shape=(28, 28, 1), name='conv2'))\n",
    "model.add(MaxPool2D(pool_size=(2, 2),name='pool1'))\n",
    "model.add(Conv2D(filters=32, kernel_size=5, strides=1,padding='same', activation='relu',name='conv3'))\n",
    "model.add(Conv2D(filters=32, kernel_size=3, strides=1,padding='same', activation='relu',name='conv4'))\n",
    "model.add(MaxPool2D(pool_size=(2, 2),name='pool2'))\n",
    "model.add(Conv2D(filters=64, kernel_size=3, strides=1,padding='same', activation='relu',name='conv5'))\n",
    "model.add(Conv2D(filters=64, kernel_size=3, strides=1,padding='valid', activation='relu',name='conv6'))\n",
    "model.add(Flatten(name='flat'))\n",
    "model.add(Dense(512,activation='relu',name='dense1'))\n",
    "model.add(Dropout(0.2,name='dropout'))\n",
    "model.add(Dense(10,activation='softmax',name='res'))\n",
    "\n",
    "model.summary()"
   ]
  },
  {
   "cell_type": "code",
   "execution_count": 13,
   "metadata": {},
   "outputs": [],
   "source": [
    "model.compile(optimizer=RMSprop(lr=0.001, rho=0.9, epsilon=1e-08, decay=0.0), loss=\"categorical_crossentropy\", metrics=[\"accuracy\"])\n",
    "checkpoint = keras.callbacks.ModelCheckpoint('model.h5',save_best_only=True, monitor='val_acc', mode='max')"
   ]
  },
  {
   "cell_type": "code",
   "execution_count": 14,
   "metadata": {},
   "outputs": [],
   "source": [
    "igen = ImageDataGenerator(\n",
    "    rotation_range=8,\n",
    "    width_shift_range=0.1,\n",
    "    height_shift_range=0.1\n",
    ")\n",
    "igen.fit(x_train)"
   ]
  },
  {
   "cell_type": "code",
   "execution_count": 15,
   "metadata": {},
   "outputs": [],
   "source": [
    "lr = ReduceLROnPlateau(min_lr=0.00001, patience=3, verbose=1, factor=0.5, monitor=\"val_accuracy\")"
   ]
  },
  {
   "cell_type": "code",
   "execution_count": 17,
   "metadata": {},
   "outputs": [
    {
     "name": "stdout",
     "output_type": "stream",
     "text": [
      "Epoch 1/50\n",
      " - 6s - loss: 0.1269 - accuracy: 0.9613 - val_loss: 0.0508 - val_accuracy: 0.9850\n",
      "Epoch 2/50\n"
     ]
    },
    {
     "name": "stderr",
     "output_type": "stream",
     "text": [
      "c:\\users\\ashuk\\.conda\\envs\\tensorflow_env\\lib\\site-packages\\keras\\callbacks\\callbacks.py:707: RuntimeWarning: Can save best model only with val_acc available, skipping.\n",
      "  'skipping.' % (self.monitor), RuntimeWarning)\n"
     ]
    },
    {
     "name": "stdout",
     "output_type": "stream",
     "text": [
      " - 5s - loss: 0.0790 - accuracy: 0.9754 - val_loss: 0.0657 - val_accuracy: 0.9813\n",
      "Epoch 3/50\n",
      " - 5s - loss: 0.0597 - accuracy: 0.9817 - val_loss: 0.0459 - val_accuracy: 0.9854\n",
      "Epoch 4/50\n",
      " - 5s - loss: 0.0491 - accuracy: 0.9851 - val_loss: 0.0352 - val_accuracy: 0.9888\n",
      "Epoch 5/50\n",
      " - 5s - loss: 0.0474 - accuracy: 0.9855 - val_loss: 0.0317 - val_accuracy: 0.9907\n",
      "Epoch 6/50\n",
      " - 5s - loss: 0.0404 - accuracy: 0.9872 - val_loss: 0.0335 - val_accuracy: 0.9900\n",
      "Epoch 7/50\n",
      " - 5s - loss: 0.0362 - accuracy: 0.9897 - val_loss: 0.0256 - val_accuracy: 0.9919\n",
      "Epoch 8/50\n",
      " - 5s - loss: 0.0330 - accuracy: 0.9896 - val_loss: 0.0261 - val_accuracy: 0.9923\n",
      "Epoch 9/50\n",
      " - 5s - loss: 0.0308 - accuracy: 0.9904 - val_loss: 0.0365 - val_accuracy: 0.9895\n",
      "Epoch 10/50\n",
      " - 6s - loss: 0.0311 - accuracy: 0.9907 - val_loss: 0.0244 - val_accuracy: 0.9924\n",
      "Epoch 11/50\n",
      " - 5s - loss: 0.0274 - accuracy: 0.9914 - val_loss: 0.0381 - val_accuracy: 0.9921\n",
      "Epoch 12/50\n",
      " - 6s - loss: 0.0262 - accuracy: 0.9920 - val_loss: 0.0383 - val_accuracy: 0.9914\n",
      "Epoch 13/50\n",
      " - 6s - loss: 0.0278 - accuracy: 0.9918 - val_loss: 0.0542 - val_accuracy: 0.9875\n",
      "\n",
      "Epoch 00013: ReduceLROnPlateau reducing learning rate to 0.0005000000237487257.\n",
      "Epoch 14/50\n",
      " - 5s - loss: 0.0167 - accuracy: 0.9949 - val_loss: 0.0205 - val_accuracy: 0.9944\n",
      "Epoch 15/50\n",
      " - 5s - loss: 0.0140 - accuracy: 0.9958 - val_loss: 0.0185 - val_accuracy: 0.9951\n",
      "Epoch 16/50\n",
      " - 6s - loss: 0.0148 - accuracy: 0.9960 - val_loss: 0.0215 - val_accuracy: 0.9946\n",
      "Epoch 17/50\n",
      " - 5s - loss: 0.0147 - accuracy: 0.9961 - val_loss: 0.0227 - val_accuracy: 0.9945\n",
      "Epoch 18/50\n",
      " - 6s - loss: 0.0139 - accuracy: 0.9959 - val_loss: 0.0254 - val_accuracy: 0.9937\n",
      "\n",
      "Epoch 00018: ReduceLROnPlateau reducing learning rate to 0.0002500000118743628.\n",
      "Epoch 19/50\n",
      " - 6s - loss: 0.0103 - accuracy: 0.9970 - val_loss: 0.0219 - val_accuracy: 0.9939\n",
      "Epoch 20/50\n",
      " - 5s - loss: 0.0081 - accuracy: 0.9975 - val_loss: 0.0256 - val_accuracy: 0.9943\n",
      "Epoch 21/50\n",
      " - 6s - loss: 0.0086 - accuracy: 0.9973 - val_loss: 0.0227 - val_accuracy: 0.9944\n",
      "\n",
      "Epoch 00021: ReduceLROnPlateau reducing learning rate to 0.0001250000059371814.\n",
      "Epoch 22/50\n",
      " - 6s - loss: 0.0055 - accuracy: 0.9983 - val_loss: 0.0225 - val_accuracy: 0.9946\n",
      "Epoch 23/50\n",
      " - 5s - loss: 0.0069 - accuracy: 0.9978 - val_loss: 0.0208 - val_accuracy: 0.9949\n",
      "Epoch 24/50\n",
      " - 6s - loss: 0.0059 - accuracy: 0.9982 - val_loss: 0.0216 - val_accuracy: 0.9949\n",
      "\n",
      "Epoch 00024: ReduceLROnPlateau reducing learning rate to 6.25000029685907e-05.\n",
      "Epoch 25/50\n",
      " - 6s - loss: 0.0044 - accuracy: 0.9986 - val_loss: 0.0229 - val_accuracy: 0.9950\n",
      "Epoch 26/50\n",
      " - 5s - loss: 0.0047 - accuracy: 0.9987 - val_loss: 0.0238 - val_accuracy: 0.9944\n",
      "Epoch 27/50\n",
      " - 6s - loss: 0.0046 - accuracy: 0.9986 - val_loss: 0.0238 - val_accuracy: 0.9946\n",
      "\n",
      "Epoch 00027: ReduceLROnPlateau reducing learning rate to 3.125000148429535e-05.\n",
      "Epoch 28/50\n",
      " - 6s - loss: 0.0046 - accuracy: 0.9985 - val_loss: 0.0230 - val_accuracy: 0.9945\n",
      "Epoch 29/50\n",
      " - 5s - loss: 0.0043 - accuracy: 0.9989 - val_loss: 0.0229 - val_accuracy: 0.9949\n",
      "Epoch 30/50\n",
      " - 6s - loss: 0.0041 - accuracy: 0.9988 - val_loss: 0.0235 - val_accuracy: 0.9950\n",
      "\n",
      "Epoch 00030: ReduceLROnPlateau reducing learning rate to 1.5625000742147677e-05.\n",
      "Epoch 31/50\n",
      " - 6s - loss: 0.0053 - accuracy: 0.9985 - val_loss: 0.0225 - val_accuracy: 0.9952\n",
      "Epoch 32/50\n",
      " - 5s - loss: 0.0034 - accuracy: 0.9990 - val_loss: 0.0233 - val_accuracy: 0.9950\n",
      "Epoch 33/50\n",
      " - 6s - loss: 0.0043 - accuracy: 0.9988 - val_loss: 0.0233 - val_accuracy: 0.9948\n",
      "Epoch 34/50\n",
      " - 6s - loss: 0.0051 - accuracy: 0.9986 - val_loss: 0.0227 - val_accuracy: 0.9950\n",
      "\n",
      "Epoch 00034: ReduceLROnPlateau reducing learning rate to 1e-05.\n",
      "Epoch 35/50\n",
      " - 5s - loss: 0.0033 - accuracy: 0.9990 - val_loss: 0.0229 - val_accuracy: 0.9950\n",
      "Epoch 36/50\n",
      " - 6s - loss: 0.0036 - accuracy: 0.9989 - val_loss: 0.0228 - val_accuracy: 0.9950\n",
      "Epoch 37/50\n",
      " - 6s - loss: 0.0047 - accuracy: 0.9988 - val_loss: 0.0228 - val_accuracy: 0.9954\n",
      "Epoch 38/50\n",
      " - 6s - loss: 0.0034 - accuracy: 0.9991 - val_loss: 0.0235 - val_accuracy: 0.9951\n",
      "Epoch 39/50\n",
      " - 6s - loss: 0.0043 - accuracy: 0.9989 - val_loss: 0.0234 - val_accuracy: 0.9951\n",
      "Epoch 40/50\n",
      " - 6s - loss: 0.0046 - accuracy: 0.9985 - val_loss: 0.0232 - val_accuracy: 0.9951\n",
      "Epoch 41/50\n",
      " - 6s - loss: 0.0048 - accuracy: 0.9987 - val_loss: 0.0229 - val_accuracy: 0.9950\n",
      "Epoch 42/50\n",
      " - 6s - loss: 0.0044 - accuracy: 0.9989 - val_loss: 0.0231 - val_accuracy: 0.9949\n",
      "Epoch 43/50\n",
      " - 6s - loss: 0.0034 - accuracy: 0.9989 - val_loss: 0.0232 - val_accuracy: 0.9948\n",
      "Epoch 44/50\n",
      " - 6s - loss: 0.0041 - accuracy: 0.9990 - val_loss: 0.0233 - val_accuracy: 0.9949\n",
      "Epoch 45/50\n",
      " - 6s - loss: 0.0034 - accuracy: 0.9987 - val_loss: 0.0232 - val_accuracy: 0.9950\n",
      "Epoch 46/50\n",
      " - 7s - loss: 0.0040 - accuracy: 0.9990 - val_loss: 0.0235 - val_accuracy: 0.9951\n",
      "Epoch 47/50\n",
      " - 7s - loss: 0.0037 - accuracy: 0.9990 - val_loss: 0.0232 - val_accuracy: 0.9951\n",
      "Epoch 48/50\n",
      " - 7s - loss: 0.0039 - accuracy: 0.9989 - val_loss: 0.0235 - val_accuracy: 0.9949\n",
      "Epoch 49/50\n",
      " - 8s - loss: 0.0030 - accuracy: 0.9988 - val_loss: 0.0235 - val_accuracy: 0.9952\n",
      "Epoch 50/50\n",
      " - 7s - loss: 0.0063 - accuracy: 0.9986 - val_loss: 0.0228 - val_accuracy: 0.9951\n"
     ]
    },
    {
     "data": {
      "text/plain": [
       "<keras.callbacks.callbacks.History at 0x1ec737af9c8>"
      ]
     },
     "execution_count": 17,
     "metadata": {},
     "output_type": "execute_result"
    }
   ],
   "source": [
    "model.fit(igen.flow(x_train, y_train, batch_size=128), epochs=50, validation_data=(x_val, y_val),\n",
    "         verbose = 2, steps_per_epoch=x_train.shape[0] // 128, callbacks=[lr, checkpoint])"
   ]
  },
  {
   "cell_type": "code",
   "execution_count": 18,
   "metadata": {},
   "outputs": [],
   "source": [
    "result = model.predict(test)"
   ]
  },
  {
   "cell_type": "code",
   "execution_count": 19,
   "metadata": {},
   "outputs": [],
   "source": [
    "result = np.argmax(result, axis=1)"
   ]
  },
  {
   "cell_type": "code",
   "execution_count": 20,
   "metadata": {},
   "outputs": [
    {
     "data": {
      "text/plain": [
       "array([2, 0, 9, ..., 3, 9, 2], dtype=int64)"
      ]
     },
     "execution_count": 20,
     "metadata": {},
     "output_type": "execute_result"
    }
   ],
   "source": [
    "result"
   ]
  },
  {
   "cell_type": "code",
   "execution_count": 21,
   "metadata": {},
   "outputs": [],
   "source": [
    "sub = pd.read_csv(\"sample_submission (1).csv\")"
   ]
  },
  {
   "cell_type": "code",
   "execution_count": 22,
   "metadata": {},
   "outputs": [],
   "source": [
    "sub[\"Label\"] = result"
   ]
  },
  {
   "cell_type": "code",
   "execution_count": 23,
   "metadata": {},
   "outputs": [],
   "source": [
    "sub.to_csv(\"try8.csv\", index=False)"
   ]
  },
  {
   "cell_type": "code",
   "execution_count": null,
   "metadata": {},
   "outputs": [],
   "source": []
  }
 ],
 "metadata": {
  "kernelspec": {
   "display_name": "Python 3",
   "language": "python",
   "name": "python3"
  },
  "language_info": {
   "codemirror_mode": {
    "name": "ipython",
    "version": 3
   },
   "file_extension": ".py",
   "mimetype": "text/x-python",
   "name": "python",
   "nbconvert_exporter": "python",
   "pygments_lexer": "ipython3",
   "version": "3.7.6"
  }
 },
 "nbformat": 4,
 "nbformat_minor": 4
}
